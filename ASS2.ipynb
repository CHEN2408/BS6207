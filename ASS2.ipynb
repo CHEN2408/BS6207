{
 "cells": [
  {
   "cell_type": "code",
   "execution_count": null,
   "metadata": {},
   "outputs": [],
   "source": []
  },
  {
   "cell_type": "code",
   "execution_count": 19,
   "metadata": {},
   "outputs": [],
   "source": [
    "m = [0]\n",
    "v = [0]\n",
    "m2 = [0]\n",
    "v2 = [0]\n",
    "b1 = 0.9\n",
    "b2 = 0.999\n",
    "a = 0.3\n",
    "t = 0\n",
    "res= [0]"
   ]
  },
  {
   "cell_type": "code",
   "execution_count": 20,
   "metadata": {},
   "outputs": [],
   "source": [
    "\n",
    "for i in range(0,10):\n",
    "    t = t + 1\n",
    "    if(res[-1]<1): \n",
    "        g = -1\n",
    "    else: \n",
    "        g = 1\n",
    "    m.append(b1 * m[-1] + (1 - b1) * g)\n",
    "    v.append(b2 * v[-1] + (1 - b2) * (g**2))\n",
    "    m2.append(m[-1] / (1 - b1**t))\n",
    "    v2.append(v[-1] / (1 - b2**t))\n",
    "    res.append(res[-1] - a * m2[-1] * (v2[-1]**0.5))"
   ]
  },
  {
   "cell_type": "code",
   "execution_count": 21,
   "metadata": {},
   "outputs": [
    {
     "data": {
      "text/plain": [
       "[0,\n",
       " 0.3,\n",
       " 0.6000000000000021,\n",
       " 0.9000000000000021,\n",
       " 1.2000000000000035,\n",
       " 1.35348343141804,\n",
       " 1.4101842951299737,\n",
       " 1.3985127716140122,\n",
       " 1.3362158088702167,\n",
       " 1.2351152242311723,\n",
       " 1.1034768180909487]"
      ]
     },
     "execution_count": 21,
     "metadata": {},
     "output_type": "execute_result"
    }
   ],
   "source": [
    "res"
   ]
  },
  {
   "cell_type": "code",
   "execution_count": 22,
   "metadata": {},
   "outputs": [
    {
     "data": {
      "text/plain": [
       "0.4101842951299737"
      ]
     },
     "execution_count": 22,
     "metadata": {},
     "output_type": "execute_result"
    }
   ],
   "source": [
    "res[6]-1 "
   ]
  },
  {
   "cell_type": "code",
   "execution_count": null,
   "metadata": {},
   "outputs": [],
   "source": []
  }
 ],
 "metadata": {
  "kernelspec": {
   "display_name": "Python 3",
   "language": "python",
   "name": "python3"
  },
  "language_info": {
   "codemirror_mode": {
    "name": "ipython",
    "version": 3
   },
   "file_extension": ".py",
   "mimetype": "text/x-python",
   "name": "python",
   "nbconvert_exporter": "python",
   "pygments_lexer": "ipython3",
   "version": "3.7.6"
  }
 },
 "nbformat": 4,
 "nbformat_minor": 4
}
