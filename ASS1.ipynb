{
 "cells": [
  {
   "cell_type": "code",
   "execution_count": 1,
   "metadata": {},
   "outputs": [],
   "source": [
    "import torch\n",
    "import torch.nn as nn\n",
    "import numpy as np"
   ]
  },
  {
   "cell_type": "code",
   "execution_count": 80,
   "metadata": {},
   "outputs": [
    {
     "name": "stdout",
     "output_type": "stream",
     "text": [
      "Sequential(\n",
      "  (0): Linear(in_features=2, out_features=10, bias=True)\n",
      "  (1): Sigmoid()\n",
      "  (2): Linear(in_features=10, out_features=10, bias=True)\n",
      "  (3): Sigmoid()\n",
      "  (4): Linear(in_features=10, out_features=1, bias=True)\n",
      ")\n"
     ]
    }
   ],
   "source": [
    "#Construct the network\n",
    "\n",
    "myNet = nn.Sequential(\n",
    "    nn.Linear(2, 10),\n",
    "    nn.Sigmoid(),\n",
    "    nn.Linear(10, 10),\n",
    "    nn.Sigmoid(),\n",
    "    nn.Linear(10, 1),\n",
    ")\n",
    "print(myNet)"
   ]
  },
  {
   "cell_type": "code",
   "execution_count": 81,
   "metadata": {},
   "outputs": [],
   "source": [
    "#input\n",
    "\n",
    "x = torch.randn(2)\n",
    "x.requires_grad_(True)\n",
    "y = (x[0]**2 + x[1]**2) / 2"
   ]
  },
  {
   "cell_type": "code",
   "execution_count": 82,
   "metadata": {},
   "outputs": [],
   "source": [
    "y_pred=myNet(x)\n",
    "loss = (y_pred-y)**2"
   ]
  },
  {
   "cell_type": "code",
   "execution_count": 83,
   "metadata": {},
   "outputs": [],
   "source": [
    "loss.backward()"
   ]
  },
  {
   "cell_type": "code",
   "execution_count": 98,
   "metadata": {},
   "outputs": [
    {
     "name": "stdout",
     "output_type": "stream",
     "text": [
      "tensor([[ 1.3901e-01,  3.9938e-01],\n",
      "        [ 7.1599e-02,  2.0570e-01],\n",
      "        [ 6.3773e-02,  1.8322e-01],\n",
      "        [-2.0976e-01, -6.0263e-01],\n",
      "        [ 5.8109e-02,  1.6694e-01],\n",
      "        [ 3.8310e-03,  1.1006e-02],\n",
      "        [-7.2732e-02, -2.0896e-01],\n",
      "        [-4.1857e-02, -1.2025e-01],\n",
      "        [ 3.2518e-04,  9.3424e-04],\n",
      "        [ 6.4334e-02,  1.8483e-01]])\n",
      "tensor([ 1.5214,  0.7836,  0.6979, -2.2957,  0.6360,  0.0419, -0.7960, -0.4581,\n",
      "         0.0036,  0.7041])\n",
      "tensor([[ 0.0166,  0.0148,  0.0414,  0.0077,  0.0441,  0.0143,  0.0335,  0.0253,\n",
      "          0.0424,  0.0285],\n",
      "        [-0.5519, -0.4933, -1.3753, -0.2544, -1.4673, -0.4751, -1.1127, -0.8416,\n",
      "         -1.4105, -0.9464],\n",
      "        [ 0.5305,  0.4742,  1.3221,  0.2445,  1.4106,  0.4567,  1.0697,  0.8091,\n",
      "          1.3559,  0.9098],\n",
      "        [-0.4676, -0.4180, -1.1652, -0.2155, -1.2432, -0.4025, -0.9428, -0.7131,\n",
      "         -1.1951, -0.8019],\n",
      "        [ 1.2470,  1.1147,  3.1076,  0.5747,  3.3155,  1.0735,  2.5143,  1.9017,\n",
      "          3.1871,  2.1386],\n",
      "        [ 0.2170,  0.1939,  0.5406,  0.1000,  0.5768,  0.1868,  0.4374,  0.3308,\n",
      "          0.5545,  0.3721],\n",
      "        [ 0.1201,  0.1073,  0.2993,  0.0553,  0.3193,  0.1034,  0.2421,  0.1831,\n",
      "          0.3069,  0.2060],\n",
      "        [ 0.1233,  0.1102,  0.3072,  0.0568,  0.3278,  0.1061,  0.2486,  0.1880,\n",
      "          0.3151,  0.2114],\n",
      "        [ 0.6425,  0.5743,  1.6012,  0.2961,  1.7084,  0.5532,  1.2955,  0.9799,\n",
      "          1.6422,  1.1019],\n",
      "        [ 0.1317,  0.1177,  0.3282,  0.0607,  0.3502,  0.1134,  0.2656,  0.2009,\n",
      "          0.3366,  0.2259]])\n",
      "tensor([ 0.0509, -1.6933,  1.6278, -1.4347,  3.8262,  0.6657,  0.3685,  0.3783,\n",
      "         1.9715,  0.4042])\n",
      "tensor([[-2.2997, -2.0327, -6.9036, -2.1954, -3.1078, -1.1028, -7.9249, -0.9348,\n",
      "         -1.7010, -0.2695]])\n",
      "tensor([-8.2970])\n"
     ]
    }
   ],
   "source": [
    "for par in myNet.parameters():\n",
    "    print(par.grad)"
   ]
  },
  {
   "cell_type": "code",
   "execution_count": null,
   "metadata": {},
   "outputs": [],
   "source": []
  },
  {
   "cell_type": "code",
   "execution_count": null,
   "metadata": {},
   "outputs": [],
   "source": []
  },
  {
   "cell_type": "code",
   "execution_count": 86,
   "metadata": {},
   "outputs": [],
   "source": [
    "#Get the list for w and b\n",
    "\n",
    "tmp=[]\n",
    "for parameter in myNet.parameters():\n",
    "    tmp.append(parameter)"
   ]
  },
  {
   "cell_type": "code",
   "execution_count": 87,
   "metadata": {},
   "outputs": [],
   "source": [
    "w_list[2]=w_list[2].reshape((1,10))"
   ]
  },
  {
   "cell_type": "code",
   "execution_count": 88,
   "metadata": {},
   "outputs": [
    {
     "data": {
      "text/plain": [
       "(1, 10)"
      ]
     },
     "execution_count": 88,
     "metadata": {},
     "output_type": "execute_result"
    }
   ],
   "source": [
    "w_list[2].shape"
   ]
  },
  {
   "cell_type": "code",
   "execution_count": 89,
   "metadata": {},
   "outputs": [],
   "source": [
    "tmp[0]=w1\n",
    "tmp[1]=b1\n",
    "tmp[2]=w2\n",
    "tmp[3]=b2\n",
    "tmp[4]=w3\n",
    "tmp[5]=b3"
   ]
  },
  {
   "cell_type": "code",
   "execution_count": 105,
   "metadata": {},
   "outputs": [],
   "source": [
    "w_list = [w1, w2, w3]\n",
    "b_list = [b1, b2, b3]"
   ]
  },
  {
   "cell_type": "code",
   "execution_count": 116,
   "metadata": {},
   "outputs": [],
   "source": [
    "#Define the sigmoid function\n",
    "def sigmoid_derive(x):\n",
    "    return sigmoid(x) * (1-sigmoid(x))\n",
    "def sigmoid(x):\n",
    "    return 1.0/(1.0 + np.exp(-x))"
   ]
  },
  {
   "cell_type": "code",
   "execution_count": 100,
   "metadata": {},
   "outputs": [],
   "source": [
    "# get the list for partial derivative\n",
    "p_b = [np.zeros(b.shape) for b in b_list]\n",
    "p_w = [np.zeros(w.shape) for w in w_list]"
   ]
  },
  {
   "cell_type": "code",
   "execution_count": 107,
   "metadata": {},
   "outputs": [
    {
     "data": {
      "text/plain": [
       "array([-4.109867], dtype=float32)"
      ]
     },
     "execution_count": 107,
     "metadata": {},
     "output_type": "execute_result"
    }
   ],
   "source": [
    "# perform forward propogation\n",
    "z1 = np.dot(w_list[0], x) + b_list[0]\n",
    "z1_act = sigmoid(z1)\n",
    "z2 = np.dot(w_list[1], z1_act) + b_list[1]\n",
    "z2_act = sigmoid(z2)\n",
    "z3 = np.dot(w_list[2], z2_act) + b_list[2]\n",
    "z3"
   ]
  },
  {
   "cell_type": "code",
   "execution_count": 110,
   "metadata": {},
   "outputs": [],
   "source": [
    "#Compute gradient for layers\n",
    "\n",
    "# For last layer\n",
    "loss2 = (z3 - y)**2\n",
    "delta = 2 * (z3 - y)\n",
    "p_b[-1] = delta\n",
    "p_w[-1] = np.dot(delta, z2_act.transpose().reshape((1,10)))\n",
    "# For second layer\n",
    "delta = np.dot(w_list[-2+1].transpose(), delta) * sigmoid_derive(z2)\n",
    "p_b[-2] = delta\n",
    "p_w[-2] = np.dot(delta.reshape((10,1)), z1_act.transpose().reshape((1, 10)))\n",
    "# For first layer\n",
    "delta = np.dot(w_list[-3+1].transpose(), delta) * sigmoid_prime(z1)\n",
    "p_b[-3] = delta\n",
    "p_w[-3] = np.dot(delta.reshape((10, 1)), x.transpose().reshape((1, 2)))"
   ]
  },
  {
   "cell_type": "code",
   "execution_count": 112,
   "metadata": {},
   "outputs": [
    {
     "data": {
      "text/plain": [
       "[array([ 1.521391  ,  0.7836008 ,  0.69794935, -2.295661  ,  0.6359585 ,\n",
       "         0.04192757, -0.7959975 , -0.4580964 ,  0.00355894,  0.70409155],\n",
       "       dtype=float32),\n",
       " array([ 0.05093963, -1.6933409 ,  1.6278435 , -1.4347221 ,  3.8262208 ,\n",
       "         0.6656767 ,  0.36848304,  0.37829703,  1.9715214 ,  0.4041521 ],\n",
       "       dtype=float32),\n",
       " array([-8.296993], dtype=float32)]"
      ]
     },
     "execution_count": 112,
     "metadata": {},
     "output_type": "execute_result"
    }
   ],
   "source": [
    "p_b"
   ]
  },
  {
   "cell_type": "code",
   "execution_count": 113,
   "metadata": {},
   "outputs": [
    {
     "data": {
      "text/plain": [
       "[array([[ 1.3901260e-01,  3.9937705e-01],\n",
       "        [ 7.1599208e-02,  2.0570135e-01],\n",
       "        [ 6.3773058e-02,  1.8321717e-01],\n",
       "        [-2.0975924e-01, -6.0262895e-01],\n",
       "        [ 5.8108825e-02,  1.6694409e-01],\n",
       "        [ 3.8310080e-03,  1.1006316e-02],\n",
       "        [-7.2731920e-02, -2.0895557e-01],\n",
       "        [-4.1857205e-02, -1.2025389e-01],\n",
       "        [ 3.2518720e-04,  9.3424838e-04],\n",
       "        [ 6.4334281e-02,  1.8482955e-01]], dtype=float32),\n",
       " array([[ 0.01660184,  0.01483984,  0.04137196,  0.00765151,  0.04413997,\n",
       "          0.01429247,  0.03347309,  0.02531752,  0.04243053,  0.0284714 ],\n",
       "        [-0.5518803 , -0.4933077 , -1.3752913 , -0.25435224, -1.4673057 ,\n",
       "         -0.4751119 , -1.1127162 , -0.8416077 , -1.4104804 , -0.9464494 ],\n",
       "        [ 0.5305339 ,  0.47422686,  1.3220959 ,  0.24451405,  1.4105512 ,\n",
       "          0.45673487,  1.069677  ,  0.80905485,  1.3559239 ,  0.9098413 ],\n",
       "        [-0.4675933 , -0.4179663 , -1.1652472 , -0.21550578, -1.2432085 ,\n",
       "         -0.4025495 , -0.9427745 , -0.7130715 , -1.195062  , -0.80190104],\n",
       "        [ 1.2470117 ,  1.1146628 ,  3.1075659 ,  0.57472646,  3.3154786 ,\n",
       "          1.0735482 ,  2.5142593 ,  1.9016707 ,  3.187078  ,  2.138568  ],\n",
       "        [ 0.2169521 ,  0.19392636,  0.54064685,  0.09998953,  0.576819  ,\n",
       "          0.18677334,  0.43742478,  0.33084813,  0.5544802 ,  0.3720629 ],\n",
       "        [ 0.12009308,  0.10734726,  0.2992732 ,  0.05534886,  0.31929615,\n",
       "          0.10338774,  0.24213497,  0.18313983,  0.30693057,  0.20595413],\n",
       "        [ 0.12329159,  0.1102063 ,  0.30724388,  0.05682299,  0.32780012,\n",
       "          0.10614131,  0.24858388,  0.18801749,  0.31510523,  0.21143942],\n",
       "        [ 0.6425427 ,  0.57434785,  1.6012229 ,  0.29613698,  1.7083533 ,\n",
       "          0.5531629 ,  1.2955122 ,  0.97986627,  1.6421928 ,  1.1019312 ],\n",
       "        [ 0.13171807,  0.11773846,  0.32824275,  0.06070661,  0.35020393,\n",
       "          0.11339564,  0.2655736 ,  0.20086771,  0.33664137,  0.22589043]],\n",
       "       dtype=float32),\n",
       " array([-2.2997136 , -2.0326948 , -6.903629  , -2.1953914 , -3.1078165 ,\n",
       "        -1.1028473 , -7.9249077 , -0.93475175, -1.7010103 , -0.26950857],\n",
       "       dtype=float32)]"
      ]
     },
     "execution_count": 113,
     "metadata": {},
     "output_type": "execute_result"
    }
   ],
   "source": [
    "p_w"
   ]
  },
  {
   "cell_type": "code",
   "execution_count": null,
   "metadata": {},
   "outputs": [],
   "source": []
  },
  {
   "cell_type": "code",
   "execution_count": null,
   "metadata": {},
   "outputs": [],
   "source": []
  },
  {
   "cell_type": "code",
   "execution_count": null,
   "metadata": {},
   "outputs": [],
   "source": []
  },
  {
   "cell_type": "code",
   "execution_count": null,
   "metadata": {},
   "outputs": [],
   "source": []
  }
 ],
 "metadata": {
  "kernelspec": {
   "display_name": "Python 3",
   "language": "python",
   "name": "python3"
  },
  "language_info": {
   "codemirror_mode": {
    "name": "ipython",
    "version": 3
   },
   "file_extension": ".py",
   "mimetype": "text/x-python",
   "name": "python",
   "nbconvert_exporter": "python",
   "pygments_lexer": "ipython3",
   "version": "3.7.6"
  }
 },
 "nbformat": 4,
 "nbformat_minor": 4
}
